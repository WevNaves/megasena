# Get megasena results
import csv

def get_last_mega_sena_results(file_path):
    with open(file_path, 'r', newline='', encoding='utf-8') as file:
        reader = csv.DictReader(file)
        rows = list(reader)

    last_result = {}
    if rows:
        last_row = rows[-1]  # Assuming the last row contains the latest result
        concurso = last_row['Concurso'].strip()
        numbers = [int(last_row['Bola{}'.format(i)]) for i in range(1, 7)]
        last_result['concurso'] = concurso
        last_result['numbers'] = numbers
    
    return last_result

# Example usage:
file_path = 'resultados_mega_sena.csv'
last_mega_sena_result = get_last_mega_sena_results(file_path)

if last_mega_sena_result:
    print("Last Mega Sena Result:")
    print("Concurso:", last_mega_sena_result.get('concurso'))
    print("Numbers:", last_mega_sena_result.get('numbers'))
else:
    print("Failed to fetch Mega Sena results.")


# Run randomization with last game
import itertools
import random

def generate_all_combinations_of_10_numbers():
    all_numbers = list(range(1, 61))
    random_numbers = random.sample(all_numbers, 10)
    return list(itertools.combinations(random_numbers, 6))

def generate_random_game_of_6_numbers():
    return sorted(random.sample(range(1, 61), 6))

def check_win(game, winning_numbers):
    matched_numbers = set(game).intersection(set(winning_numbers))
    return len(matched_numbers)

def main():
    # Get last winning numbers
    last_mega_sena_result = get_last_mega_sena_results(file_path)
    last_winning_numbers = last_mega_sena_result.get('numbers', [])
    last_concurso = last_mega_sena_result.get('concurso', 'Unknown')
    
    print("Last Mega Sena Result:")
    print("Concurso:", last_concurso)
    print("Winning Numbers:", last_winning_numbers)
    print()
    
    # Generate all combinations of 10 numbers and check how many numbers match
    all_combinations_of_10 = generate_all_combinations_of_10_numbers()
    max_matches_combinations = max(check_win(combination, last_winning_numbers) for combination in all_combinations_of_10)
    print("Maximum matches for all combinations of 10 numbers:", max_matches_combinations)
    print()
    
    # Generate 210 random combinations of 6 numbers and check how many numbers match
    max_matches_random = 0
    for i in range(1, 211):
        random_game = generate_random_game_of_6_numbers()
        matched_numbers = check_win(random_game, last_winning_numbers)
        max_matches_random = max(max_matches_random, matched_numbers)
    print("Maximum matches for 210 random combinations of 6 numbers:", max_matches_random)
    print()
    
if __name__ == "__main__":
    main()
